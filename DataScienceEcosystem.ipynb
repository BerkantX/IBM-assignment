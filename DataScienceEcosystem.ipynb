{
 "cells": [
  {
   "cell_type": "markdown",
   "id": "9c6d63a9-56d2-48c5-98eb-620e77a74032",
   "metadata": {},
   "source": [
    "# Data Science Tools and Ecosystem"
   ]
  },
  {
   "cell_type": "markdown",
   "id": "3cdc3aea-76d9-4366-aabd-750aea7fb882",
   "metadata": {},
   "source": [
    "In this notebook, Data Science Tools and Ecosystem are summarized."
   ]
  },
  {
   "cell_type": "markdown",
   "id": "8cb7b437-2087-403c-bdf8-a3d7237949d3",
   "metadata": {},
   "source": [
    "## Objectives:"
   ]
  },
  {
   "cell_type": "markdown",
   "id": "91e738c3-2ea7-47e8-ad08-cce6dd0db115",
   "metadata": {},
   "source": [
    "* List popular languages for Data Science.\n",
    "* List popular libraries for Data Science.\n",
    "* Identify popular Data Science tools.\n",
    "* Understand basic arithmetic operations in Python.\n",
    "* Convert units using Python."
   ]
  },
  {
   "cell_type": "markdown",
   "id": "958d3e41-8214-4d06-ba93-caa52073597e",
   "metadata": {},
   "source": [
    "### Some of the popular languages that Data Scientists use are:"
   ]
  },
  {
   "cell_type": "markdown",
   "id": "4580998f-b1be-4f8b-bc82-0f3f1d7628e6",
   "metadata": {},
   "source": [
    "1. Python\n",
    "2. R\n",
    "3. Julia"
   ]
  },
  {
   "cell_type": "markdown",
   "id": "1f43bbaf-a84c-435c-bccf-08e9f8289c3c",
   "metadata": {},
   "source": [
    "### Some of the commonly used libraries used by Data Scientists include:\n"
   ]
  },
  {
   "cell_type": "markdown",
   "id": "e214ff31-0578-4e67-98c7-cf9cb53eb910",
   "metadata": {},
   "source": [
    "1. Matplotlib\n",
    "2. Scikit-learn\n",
    "3. Searborn"
   ]
  },
  {
   "cell_type": "markdown",
   "id": "9ecabdc4-6b2b-4b72-91d8-fbf3fd10199c",
   "metadata": {},
   "source": [
    "## Exercise 6 - Create a markdown cell with the Data Science tools table"
   ]
  },
  {
   "cell_type": "markdown",
   "id": "92744ce0-5024-44af-98b3-db8ac7b004f9",
   "metadata": {},
   "source": [
    "|DATA SCIENCE TOOLS|\n",
    "|:-----------------|\n",
    "|Jupyter Notebook  |\n",
    "|VsCode            |\n",
    "|Rstudio           |\n",
    "\n"
   ]
  },
  {
   "cell_type": "markdown",
   "id": "2431d9fb-af15-487e-9fdb-9346a19b4c52",
   "metadata": {},
   "source": [
    "### Below are a few examples of evaluating arithmetic expressions in Python"
   ]
  },
  {
   "cell_type": "markdown",
   "id": "3752ec53-5765-4105-8a7e-5f20d83d304a",
   "metadata": {},
   "source": [
    "This a simple arithmetic expression to mutiply then add integers"
   ]
  },
  {
   "cell_type": "code",
   "execution_count": 12,
   "id": "e2b7ead9-8aac-4fa0-9874-ee2121ec9121",
   "metadata": {},
   "outputs": [
    {
     "data": {
      "text/plain": [
       "17"
      ]
     },
     "execution_count": 12,
     "metadata": {},
     "output_type": "execute_result"
    }
   ],
   "source": [
    "(3*4)+5"
   ]
  },
  {
   "cell_type": "markdown",
   "id": "8f4a06ac-53b9-45cb-ba89-f7b1ebb47166",
   "metadata": {},
   "source": [
    "## Exercises 9"
   ]
  },
  {
   "cell_type": "markdown",
   "id": "8e1a1b11-e1ec-4095-a3c2-97a324f430a5",
   "metadata": {},
   "source": [
    "This will convert 200 minutes to hours by diving by 60"
   ]
  },
  {
   "cell_type": "code",
   "execution_count": 15,
   "id": "9268436f-d68b-4be3-8e00-0f3136b932e7",
   "metadata": {},
   "outputs": [
    {
     "data": {
      "text/plain": [
       "3.3333333333333335"
      ]
     },
     "execution_count": 15,
     "metadata": {},
     "output_type": "execute_result"
    }
   ],
   "source": [
    "200/60"
   ]
  },
  {
   "cell_type": "markdown",
   "id": "fa662345-5a41-47ad-b1b2-ad26d5c3cbe8",
   "metadata": {},
   "source": [
    "## AUTHOR\n",
    "Berkant Karaçöp"
   ]
  },
  {
   "cell_type": "code",
   "execution_count": null,
   "id": "e3e550cb-4e58-485d-9fee-397af945daf3",
   "metadata": {},
   "outputs": [],
   "source": []
  }
 ],
 "metadata": {
  "kernelspec": {
   "display_name": "Python 3 (ipykernel)",
   "language": "python",
   "name": "python3"
  },
  "language_info": {
   "codemirror_mode": {
    "name": "ipython",
    "version": 3
   },
   "file_extension": ".py",
   "mimetype": "text/x-python",
   "name": "python",
   "nbconvert_exporter": "python",
   "pygments_lexer": "ipython3",
   "version": "3.12.7"
  }
 },
 "nbformat": 4,
 "nbformat_minor": 5
}
